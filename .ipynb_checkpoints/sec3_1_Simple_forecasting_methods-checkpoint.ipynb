{
 "cells": [
  {
   "cell_type": "markdown",
   "metadata": {},
   "source": [
    "# Ch3. The forecaster's toolbox"
   ]
  },
  {
   "cell_type": "markdown",
   "metadata": {},
   "source": [
    "## Sec. 3.1 Some simple forecasting methods"
   ]
  },
  {
   "cell_type": "markdown",
   "metadata": {},
   "source": [
    "### Average method\n",
    "\n",
    "- The forecasts of all future values are equal to the average (or “mean”) of the historical data.\n",
    "- 즉, 과거 데이터의 평균으로 예측\n",
    "\n",
    "$$ \\hat{y}_{T+h|T} = \\bar{y} = (y_1+\\cdots +y_T)/T $$\n"
   ]
  },
  {
   "cell_type": "markdown",
   "metadata": {},
   "source": [
    "### Naïve method \n",
    "\n",
    "- Simply set all forecasts to be the value of the last observation. \n",
    "- 마지막 관측값으로 예측\n",
    "- data가 random walk를 따르면 naïve forecast가 최적이므로 **random walk forecasts**라 하기도 함.\n",
    "\n",
    "$$ \\hat{y}_{T+h|T} = y_T $$"
   ]
  },
  {
   "cell_type": "markdown",
   "metadata": {},
   "source": [
    "### Seasonal naïve method"
   ]
  },
  {
   "cell_type": "code",
   "execution_count": null,
   "metadata": {},
   "outputs": [],
   "source": []
  }
 ],
 "metadata": {
  "kernelspec": {
   "display_name": "Python 3",
   "language": "python",
   "name": "python3"
  },
  "language_info": {
   "codemirror_mode": {
    "name": "ipython",
    "version": 3
   },
   "file_extension": ".py",
   "mimetype": "text/x-python",
   "name": "python",
   "nbconvert_exporter": "python",
   "pygments_lexer": "ipython3",
   "version": "3.7.5"
  }
 },
 "nbformat": 4,
 "nbformat_minor": 4
}
